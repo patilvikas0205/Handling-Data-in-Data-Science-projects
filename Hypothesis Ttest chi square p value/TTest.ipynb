{
 "cells": [
  {
   "cell_type": "code",
   "execution_count": 12,
   "metadata": {},
   "outputs": [],
   "source": [
    "import numpy as np"
   ]
  },
  {
   "cell_type": "code",
   "execution_count": 13,
   "metadata": {},
   "outputs": [],
   "source": [
    "import scipy"
   ]
  },
  {
   "cell_type": "code",
   "execution_count": 14,
   "metadata": {},
   "outputs": [],
   "source": [
    "age=np.random.randint(10,80,size=50)"
   ]
  },
  {
   "cell_type": "code",
   "execution_count": 15,
   "metadata": {},
   "outputs": [
    {
     "data": {
      "text/plain": [
       "array([57, 77, 55, 57, 19, 21, 18, 75, 28, 47, 67, 65, 78, 69, 44, 11, 57,\n",
       "       54, 62, 55, 17, 46, 50, 16, 47, 19, 60, 22, 41, 29, 74, 17, 50, 58,\n",
       "       62, 29, 70, 68, 74, 20, 62, 11, 65, 29, 12, 78, 17, 37, 73, 79])"
      ]
     },
     "execution_count": 15,
     "metadata": {},
     "output_type": "execute_result"
    }
   ],
   "source": [
    "age"
   ]
  },
  {
   "cell_type": "code",
   "execution_count": 16,
   "metadata": {},
   "outputs": [],
   "source": [
    "age_pop=list(age)"
   ]
  },
  {
   "cell_type": "code",
   "execution_count": 17,
   "metadata": {},
   "outputs": [
    {
     "data": {
      "text/plain": [
       "[57,\n",
       " 77,\n",
       " 55,\n",
       " 57,\n",
       " 19,\n",
       " 21,\n",
       " 18,\n",
       " 75,\n",
       " 28,\n",
       " 47,\n",
       " 67,\n",
       " 65,\n",
       " 78,\n",
       " 69,\n",
       " 44,\n",
       " 11,\n",
       " 57,\n",
       " 54,\n",
       " 62,\n",
       " 55,\n",
       " 17,\n",
       " 46,\n",
       " 50,\n",
       " 16,\n",
       " 47,\n",
       " 19,\n",
       " 60,\n",
       " 22,\n",
       " 41,\n",
       " 29,\n",
       " 74,\n",
       " 17,\n",
       " 50,\n",
       " 58,\n",
       " 62,\n",
       " 29,\n",
       " 70,\n",
       " 68,\n",
       " 74,\n",
       " 20,\n",
       " 62,\n",
       " 11,\n",
       " 65,\n",
       " 29,\n",
       " 12,\n",
       " 78,\n",
       " 17,\n",
       " 37,\n",
       " 73,\n",
       " 79]"
      ]
     },
     "execution_count": 17,
     "metadata": {},
     "output_type": "execute_result"
    }
   ],
   "source": [
    "age_pop"
   ]
  },
  {
   "cell_type": "code",
   "execution_count": 18,
   "metadata": {},
   "outputs": [],
   "source": [
    "age_sample=np.random.choice(age_pop,20)"
   ]
  },
  {
   "cell_type": "code",
   "execution_count": 19,
   "metadata": {},
   "outputs": [],
   "source": [
    "age_sample=list(age_sample)"
   ]
  },
  {
   "cell_type": "code",
   "execution_count": 20,
   "metadata": {},
   "outputs": [
    {
     "data": {
      "text/plain": [
       "[22,\n",
       " 37,\n",
       " 67,\n",
       " 50,\n",
       " 28,\n",
       " 65,\n",
       " 55,\n",
       " 65,\n",
       " 58,\n",
       " 46,\n",
       " 50,\n",
       " 11,\n",
       " 77,\n",
       " 29,\n",
       " 55,\n",
       " 17,\n",
       " 60,\n",
       " 75,\n",
       " 19,\n",
       " 47]"
      ]
     },
     "execution_count": 20,
     "metadata": {},
     "output_type": "execute_result"
    }
   ],
   "source": [
    "age_sample"
   ]
  },
  {
   "cell_type": "code",
   "execution_count": 23,
   "metadata": {},
   "outputs": [],
   "source": [
    "from scipy.stats import ttest_1sampp"
   ]
  },
  {
   "cell_type": "code",
   "execution_count": 24,
   "metadata": {},
   "outputs": [],
   "source": [
    "ttest, p_value=ttest_1samp(age_sample,np.mean(age_pop))"
   ]
  },
  {
   "cell_type": "code",
   "execution_count": 26,
   "metadata": {},
   "outputs": [
    {
     "data": {
      "text/plain": [
       "0.945304455879671"
      ]
     },
     "execution_count": 26,
     "metadata": {},
     "output_type": "execute_result"
    }
   ],
   "source": [
    "p_value"
   ]
  },
  {
   "cell_type": "code",
   "execution_count": 35,
   "metadata": {},
   "outputs": [
    {
     "name": "stdout",
     "output_type": "stream",
     "text": [
      "we are accepted all hypothesis\n"
     ]
    }
   ],
   "source": [
    "if p_value < 0.05:\n",
    "    print(\"we are not accepted all hypothesis\")\n",
    "else:\n",
    "    print(\"we are accepted all hypothesis\")"
   ]
  },
  {
   "cell_type": "code",
   "execution_count": 33,
   "metadata": {},
   "outputs": [
    {
     "data": {
      "text/plain": [
       "46.96"
      ]
     },
     "execution_count": 33,
     "metadata": {},
     "output_type": "execute_result"
    }
   ],
   "source": [
    "np.mean(age_pop)"
   ]
  },
  {
   "cell_type": "code",
   "execution_count": 34,
   "metadata": {},
   "outputs": [
    {
     "data": {
      "text/plain": [
       "False"
      ]
     },
     "execution_count": 34,
     "metadata": {},
     "output_type": "execute_result"
    }
   ],
   "source": [
    "p_value < 0.05"
   ]
  },
  {
   "cell_type": "code",
   "execution_count": 44,
   "metadata": {},
   "outputs": [],
   "source": [
    "import numpy as np\n",
    "import pandas as pd\n",
    "import scipy.stats as stats\n",
    "import math"
   ]
  },
  {
   "cell_type": "code",
   "execution_count": 42,
   "metadata": {},
   "outputs": [],
   "source": [
    "np.random.seed(6)\n",
    "school_weight=stats.poisson.rvs(loc=15, mu=50, size=100)"
   ]
  },
  {
   "cell_type": "code",
   "execution_count": 43,
   "metadata": {},
   "outputs": [
    {
     "data": {
      "text/plain": [
       "64.95"
      ]
     },
     "execution_count": 43,
     "metadata": {},
     "output_type": "execute_result"
    }
   ],
   "source": [
    "school_weight.mean()"
   ]
  },
  {
   "cell_type": "code",
   "execution_count": null,
   "metadata": {},
   "outputs": [],
   "source": []
  }
 ],
 "metadata": {
  "kernelspec": {
   "display_name": "Python 3",
   "language": "python",
   "name": "python3"
  },
  "language_info": {
   "codemirror_mode": {
    "name": "ipython",
    "version": 3
   },
   "file_extension": ".py",
   "mimetype": "text/x-python",
   "name": "python",
   "nbconvert_exporter": "python",
   "pygments_lexer": "ipython3",
   "version": "3.8.3"
  }
 },
 "nbformat": 4,
 "nbformat_minor": 4
}
